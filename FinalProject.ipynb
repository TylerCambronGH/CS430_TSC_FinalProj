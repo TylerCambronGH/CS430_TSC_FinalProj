{
  "nbformat": 4,
  "nbformat_minor": 0,
  "metadata": {
    "colab": {
      "provenance": []
    },
    "kernelspec": {
      "name": "python3",
      "display_name": "Python 3"
    },
    "language_info": {
      "name": "python"
    }
  },
  "cells": [
    {
      "cell_type": "code",
      "execution_count": 88,
      "metadata": {
        "id": "b_wqbef-5p7B"
      },
      "outputs": [],
      "source": [
        "import pandas as pd\n",
        "import math\n",
        "import numpy as np\n",
        "import keras"
      ]
    },
    {
      "cell_type": "code",
      "source": [
        "dataset = pd.read_csv(\"/content/drive/MyDrive/Colab Notebooks/finalProj/card_transdata.csv\")\n",
        "dataset.head()"
      ],
      "metadata": {
        "colab": {
          "base_uri": "https://localhost:8080/",
          "height": 206
        },
        "id": "oGZo_pCr6QsU",
        "outputId": "72903f57-25af-4ebc-94d6-f956f8ded82c"
      },
      "execution_count": 89,
      "outputs": [
        {
          "output_type": "execute_result",
          "data": {
            "text/plain": [
              "   distance_from_home  distance_from_last_transaction  \\\n",
              "0           57.877857                        0.311140   \n",
              "1           10.829943                        0.175592   \n",
              "2            5.091079                        0.805153   \n",
              "3            2.247564                        5.600044   \n",
              "4           44.190936                        0.566486   \n",
              "\n",
              "   ratio_to_median_purchase_price  repeat_retailer  used_chip  \\\n",
              "0                        1.945940              1.0        1.0   \n",
              "1                        1.294219              1.0        0.0   \n",
              "2                        0.427715              1.0        0.0   \n",
              "3                        0.362663              1.0        1.0   \n",
              "4                        2.222767              1.0        1.0   \n",
              "\n",
              "   used_pin_number  online_order  fraud  \n",
              "0              0.0           0.0    0.0  \n",
              "1              0.0           0.0    0.0  \n",
              "2              0.0           1.0    0.0  \n",
              "3              0.0           1.0    0.0  \n",
              "4              0.0           1.0    0.0  "
            ],
            "text/html": [
              "\n",
              "  <div id=\"df-fd955d36-d394-48ee-aacb-d1a9356ae76a\">\n",
              "    <div class=\"colab-df-container\">\n",
              "      <div>\n",
              "<style scoped>\n",
              "    .dataframe tbody tr th:only-of-type {\n",
              "        vertical-align: middle;\n",
              "    }\n",
              "\n",
              "    .dataframe tbody tr th {\n",
              "        vertical-align: top;\n",
              "    }\n",
              "\n",
              "    .dataframe thead th {\n",
              "        text-align: right;\n",
              "    }\n",
              "</style>\n",
              "<table border=\"1\" class=\"dataframe\">\n",
              "  <thead>\n",
              "    <tr style=\"text-align: right;\">\n",
              "      <th></th>\n",
              "      <th>distance_from_home</th>\n",
              "      <th>distance_from_last_transaction</th>\n",
              "      <th>ratio_to_median_purchase_price</th>\n",
              "      <th>repeat_retailer</th>\n",
              "      <th>used_chip</th>\n",
              "      <th>used_pin_number</th>\n",
              "      <th>online_order</th>\n",
              "      <th>fraud</th>\n",
              "    </tr>\n",
              "  </thead>\n",
              "  <tbody>\n",
              "    <tr>\n",
              "      <th>0</th>\n",
              "      <td>57.877857</td>\n",
              "      <td>0.311140</td>\n",
              "      <td>1.945940</td>\n",
              "      <td>1.0</td>\n",
              "      <td>1.0</td>\n",
              "      <td>0.0</td>\n",
              "      <td>0.0</td>\n",
              "      <td>0.0</td>\n",
              "    </tr>\n",
              "    <tr>\n",
              "      <th>1</th>\n",
              "      <td>10.829943</td>\n",
              "      <td>0.175592</td>\n",
              "      <td>1.294219</td>\n",
              "      <td>1.0</td>\n",
              "      <td>0.0</td>\n",
              "      <td>0.0</td>\n",
              "      <td>0.0</td>\n",
              "      <td>0.0</td>\n",
              "    </tr>\n",
              "    <tr>\n",
              "      <th>2</th>\n",
              "      <td>5.091079</td>\n",
              "      <td>0.805153</td>\n",
              "      <td>0.427715</td>\n",
              "      <td>1.0</td>\n",
              "      <td>0.0</td>\n",
              "      <td>0.0</td>\n",
              "      <td>1.0</td>\n",
              "      <td>0.0</td>\n",
              "    </tr>\n",
              "    <tr>\n",
              "      <th>3</th>\n",
              "      <td>2.247564</td>\n",
              "      <td>5.600044</td>\n",
              "      <td>0.362663</td>\n",
              "      <td>1.0</td>\n",
              "      <td>1.0</td>\n",
              "      <td>0.0</td>\n",
              "      <td>1.0</td>\n",
              "      <td>0.0</td>\n",
              "    </tr>\n",
              "    <tr>\n",
              "      <th>4</th>\n",
              "      <td>44.190936</td>\n",
              "      <td>0.566486</td>\n",
              "      <td>2.222767</td>\n",
              "      <td>1.0</td>\n",
              "      <td>1.0</td>\n",
              "      <td>0.0</td>\n",
              "      <td>1.0</td>\n",
              "      <td>0.0</td>\n",
              "    </tr>\n",
              "  </tbody>\n",
              "</table>\n",
              "</div>\n",
              "      <button class=\"colab-df-convert\" onclick=\"convertToInteractive('df-fd955d36-d394-48ee-aacb-d1a9356ae76a')\"\n",
              "              title=\"Convert this dataframe to an interactive table.\"\n",
              "              style=\"display:none;\">\n",
              "        \n",
              "  <svg xmlns=\"http://www.w3.org/2000/svg\" height=\"24px\"viewBox=\"0 0 24 24\"\n",
              "       width=\"24px\">\n",
              "    <path d=\"M0 0h24v24H0V0z\" fill=\"none\"/>\n",
              "    <path d=\"M18.56 5.44l.94 2.06.94-2.06 2.06-.94-2.06-.94-.94-2.06-.94 2.06-2.06.94zm-11 1L8.5 8.5l.94-2.06 2.06-.94-2.06-.94L8.5 2.5l-.94 2.06-2.06.94zm10 10l.94 2.06.94-2.06 2.06-.94-2.06-.94-.94-2.06-.94 2.06-2.06.94z\"/><path d=\"M17.41 7.96l-1.37-1.37c-.4-.4-.92-.59-1.43-.59-.52 0-1.04.2-1.43.59L10.3 9.45l-7.72 7.72c-.78.78-.78 2.05 0 2.83L4 21.41c.39.39.9.59 1.41.59.51 0 1.02-.2 1.41-.59l7.78-7.78 2.81-2.81c.8-.78.8-2.07 0-2.86zM5.41 20L4 18.59l7.72-7.72 1.47 1.35L5.41 20z\"/>\n",
              "  </svg>\n",
              "      </button>\n",
              "      \n",
              "  <style>\n",
              "    .colab-df-container {\n",
              "      display:flex;\n",
              "      flex-wrap:wrap;\n",
              "      gap: 12px;\n",
              "    }\n",
              "\n",
              "    .colab-df-convert {\n",
              "      background-color: #E8F0FE;\n",
              "      border: none;\n",
              "      border-radius: 50%;\n",
              "      cursor: pointer;\n",
              "      display: none;\n",
              "      fill: #1967D2;\n",
              "      height: 32px;\n",
              "      padding: 0 0 0 0;\n",
              "      width: 32px;\n",
              "    }\n",
              "\n",
              "    .colab-df-convert:hover {\n",
              "      background-color: #E2EBFA;\n",
              "      box-shadow: 0px 1px 2px rgba(60, 64, 67, 0.3), 0px 1px 3px 1px rgba(60, 64, 67, 0.15);\n",
              "      fill: #174EA6;\n",
              "    }\n",
              "\n",
              "    [theme=dark] .colab-df-convert {\n",
              "      background-color: #3B4455;\n",
              "      fill: #D2E3FC;\n",
              "    }\n",
              "\n",
              "    [theme=dark] .colab-df-convert:hover {\n",
              "      background-color: #434B5C;\n",
              "      box-shadow: 0px 1px 3px 1px rgba(0, 0, 0, 0.15);\n",
              "      filter: drop-shadow(0px 1px 2px rgba(0, 0, 0, 0.3));\n",
              "      fill: #FFFFFF;\n",
              "    }\n",
              "  </style>\n",
              "\n",
              "      <script>\n",
              "        const buttonEl =\n",
              "          document.querySelector('#df-fd955d36-d394-48ee-aacb-d1a9356ae76a button.colab-df-convert');\n",
              "        buttonEl.style.display =\n",
              "          google.colab.kernel.accessAllowed ? 'block' : 'none';\n",
              "\n",
              "        async function convertToInteractive(key) {\n",
              "          const element = document.querySelector('#df-fd955d36-d394-48ee-aacb-d1a9356ae76a');\n",
              "          const dataTable =\n",
              "            await google.colab.kernel.invokeFunction('convertToInteractive',\n",
              "                                                     [key], {});\n",
              "          if (!dataTable) return;\n",
              "\n",
              "          const docLinkHtml = 'Like what you see? Visit the ' +\n",
              "            '<a target=\"_blank\" href=https://colab.research.google.com/notebooks/data_table.ipynb>data table notebook</a>'\n",
              "            + ' to learn more about interactive tables.';\n",
              "          element.innerHTML = '';\n",
              "          dataTable['output_type'] = 'display_data';\n",
              "          await google.colab.output.renderOutput(dataTable, element);\n",
              "          const docLink = document.createElement('div');\n",
              "          docLink.innerHTML = docLinkHtml;\n",
              "          element.appendChild(docLink);\n",
              "        }\n",
              "      </script>\n",
              "    </div>\n",
              "  </div>\n",
              "  "
            ]
          },
          "metadata": {},
          "execution_count": 89
        }
      ]
    },
    {
      "cell_type": "code",
      "source": [
        "dataset.info()"
      ],
      "metadata": {
        "colab": {
          "base_uri": "https://localhost:8080/"
        },
        "id": "a8ZMzuTQTJpr",
        "outputId": "9012f154-3f69-4e13-8c41-b9d495195fc5"
      },
      "execution_count": 90,
      "outputs": [
        {
          "output_type": "stream",
          "name": "stdout",
          "text": [
            "<class 'pandas.core.frame.DataFrame'>\n",
            "RangeIndex: 1000000 entries, 0 to 999999\n",
            "Data columns (total 8 columns):\n",
            " #   Column                          Non-Null Count    Dtype  \n",
            "---  ------                          --------------    -----  \n",
            " 0   distance_from_home              1000000 non-null  float64\n",
            " 1   distance_from_last_transaction  1000000 non-null  float64\n",
            " 2   ratio_to_median_purchase_price  1000000 non-null  float64\n",
            " 3   repeat_retailer                 1000000 non-null  float64\n",
            " 4   used_chip                       1000000 non-null  float64\n",
            " 5   used_pin_number                 1000000 non-null  float64\n",
            " 6   online_order                    1000000 non-null  float64\n",
            " 7   fraud                           1000000 non-null  float64\n",
            "dtypes: float64(8)\n",
            "memory usage: 61.0 MB\n"
          ]
        }
      ]
    },
    {
      "cell_type": "code",
      "source": [
        "X = dataset.drop(['fraud'], axis=1)\n",
        "y = dataset.fraud"
      ],
      "metadata": {
        "id": "k_ts4hCfXqp4"
      },
      "execution_count": 91,
      "outputs": []
    },
    {
      "cell_type": "code",
      "source": [
        "# Scale X\n",
        "from sklearn.preprocessing import StandardScaler\n",
        "X = StandardScaler().fit_transform(X)"
      ],
      "metadata": {
        "id": "-A14s3P2Hbq3"
      },
      "execution_count": 92,
      "outputs": []
    },
    {
      "cell_type": "code",
      "source": [
        "y.value_counts() #stratify"
      ],
      "metadata": {
        "colab": {
          "base_uri": "https://localhost:8080/"
        },
        "id": "97vvzhWPXqla",
        "outputId": "d44cb86c-6e2d-4799-8bec-d335d4b10832"
      },
      "execution_count": 93,
      "outputs": [
        {
          "output_type": "execute_result",
          "data": {
            "text/plain": [
              "0.0    912597\n",
              "1.0     87403\n",
              "Name: fraud, dtype: int64"
            ]
          },
          "metadata": {},
          "execution_count": 93
        }
      ]
    },
    {
      "cell_type": "code",
      "source": [
        "from sklearn.model_selection import train_test_split\n",
        "X_train, X_test, y_train, y_test = train_test_split(X, y, test_size=0.2, stratify=y, random_state=0)"
      ],
      "metadata": {
        "id": "HgYZ0syfk1Ye"
      },
      "execution_count": 94,
      "outputs": []
    },
    {
      "cell_type": "code",
      "source": [
        "# Logistic Regression\n",
        "\n",
        "from sklearn.linear_model import LogisticRegression\n",
        "regressor = LogisticRegression(random_state=0, max_iter=100, n_jobs=5, verbose=0)\n",
        "regressor.fit(X_train, y_train)\n",
        "regressor.score(X_test, y_test)"
      ],
      "metadata": {
        "colab": {
          "base_uri": "https://localhost:8080/"
        },
        "id": "jR0UVLMqmC4m",
        "outputId": "c76c55c2-b5a6-4fb9-cca9-06c940cbcab4"
      },
      "execution_count": 95,
      "outputs": [
        {
          "output_type": "execute_result",
          "data": {
            "text/plain": [
              "0.959085"
            ]
          },
          "metadata": {},
          "execution_count": 95
        }
      ]
    },
    {
      "cell_type": "code",
      "source": [
        "y_pred_lr = regressor.predict(X_test)\n",
        "\n",
        "from sklearn.metrics import mean_squared_error, mean_absolute_error\n",
        "mse_lr = mean_squared_error(y_test, y_pred_lr)\n",
        "mae_lr = mean_absolute_error(y_test, y_pred_lr)\n",
        "print('Mean squared error on test data: ', mse_lr)\n",
        "print('Mean absolute error on test data: ', mae_lr)"
      ],
      "metadata": {
        "colab": {
          "base_uri": "https://localhost:8080/"
        },
        "id": "4iVSinDIoG5k",
        "outputId": "13543a5f-f157-49d5-c75f-8ee698a5ac28"
      },
      "execution_count": 96,
      "outputs": [
        {
          "output_type": "stream",
          "name": "stdout",
          "text": [
            "Mean squared error on test data:  0.040915\n",
            "Mean absolute error on test data:  0.040915\n"
          ]
        }
      ]
    },
    {
      "cell_type": "code",
      "source": [
        "# Random Forest Classification\n",
        "\n",
        "from sklearn.ensemble import RandomForestClassifier\n",
        "random_forest = RandomForestClassifier(n_estimators=10, random_state=0)\n",
        "random_forest.fit(X_train, y_train)\n",
        "random_forest.score(X_test, y_test)"
      ],
      "metadata": {
        "colab": {
          "base_uri": "https://localhost:8080/"
        },
        "id": "3wYC8EtmpuRt",
        "outputId": "19184d6d-f11c-473c-d9ce-11db6f15d4f4"
      },
      "execution_count": 97,
      "outputs": [
        {
          "output_type": "execute_result",
          "data": {
            "text/plain": [
              "0.999965"
            ]
          },
          "metadata": {},
          "execution_count": 97
        }
      ]
    },
    {
      "cell_type": "code",
      "source": [
        "y_pred_rf = random_forest.predict(X_test)\n",
        "\n",
        "mse_rf = mean_squared_error(y_test, y_pred_rf)\n",
        "mae_rf = mean_absolute_error(y_test, y_pred_rf)\n",
        "print('Mean squared error on test data: ', mse_rf)\n",
        "print('Mean absolute error on test data: ', mae_rf)"
      ],
      "metadata": {
        "colab": {
          "base_uri": "https://localhost:8080/"
        },
        "id": "ssCl9qhxr8RM",
        "outputId": "81ec05c3-5f26-45b1-f44a-60c4283f8d13"
      },
      "execution_count": 98,
      "outputs": [
        {
          "output_type": "stream",
          "name": "stdout",
          "text": [
            "Mean squared error on test data:  3.5e-05\n",
            "Mean absolute error on test data:  3.5e-05\n"
          ]
        }
      ]
    },
    {
      "cell_type": "code",
      "source": [
        "# Decision Tree Classifier\n",
        "\n",
        "from sklearn.tree import DecisionTreeClassifier\n",
        "decision_tree = DecisionTreeClassifier(random_state=0)\n",
        "decision_tree.fit(X_train, y_train)\n",
        "decision_tree.score(X_test, y_test)"
      ],
      "metadata": {
        "colab": {
          "base_uri": "https://localhost:8080/"
        },
        "id": "8_DfRXGbsd4e",
        "outputId": "61548bf2-fc4d-49fd-96ff-4b9896488e09"
      },
      "execution_count": 99,
      "outputs": [
        {
          "output_type": "execute_result",
          "data": {
            "text/plain": [
              "0.99997"
            ]
          },
          "metadata": {},
          "execution_count": 99
        }
      ]
    },
    {
      "cell_type": "code",
      "source": [
        "y_pred_dt = decision_tree.predict(X_test)\n",
        "\n",
        "mse_dt = mean_squared_error(y_test, y_pred_dt)\n",
        "mae_dt = mean_absolute_error(y_test, y_pred_dt)\n",
        "print('Mean squared error on test data: ', mse_dt)\n",
        "print('Mean absolute error on test data: ', mae_dt)"
      ],
      "metadata": {
        "colab": {
          "base_uri": "https://localhost:8080/"
        },
        "id": "RT8Y_5UGs-K_",
        "outputId": "68c4c700-4606-4e93-e5ea-52fe52fdd76e"
      },
      "execution_count": 100,
      "outputs": [
        {
          "output_type": "stream",
          "name": "stdout",
          "text": [
            "Mean squared error on test data:  3e-05\n",
            "Mean absolute error on test data:  3e-05\n"
          ]
        }
      ]
    },
    {
      "cell_type": "code",
      "source": [
        "# Support Vector Classifier\n",
        "\n",
        "from sklearn.svm import LinearSVC\n",
        "svc = LinearSVC(random_state=0, max_iter=100)\n",
        "svc.fit(X_train, y_train)\n",
        "svc.score(X_test, y_test)"
      ],
      "metadata": {
        "colab": {
          "base_uri": "https://localhost:8080/"
        },
        "id": "uARZBM_utM2o",
        "outputId": "1aa76bc7-9b46-498e-ee77-3a66d1bab4b4"
      },
      "execution_count": 101,
      "outputs": [
        {
          "output_type": "stream",
          "name": "stderr",
          "text": [
            "/usr/local/lib/python3.8/dist-packages/sklearn/svm/_base.py:1206: ConvergenceWarning: Liblinear failed to converge, increase the number of iterations.\n",
            "  warnings.warn(\n"
          ]
        },
        {
          "output_type": "execute_result",
          "data": {
            "text/plain": [
              "0.95076"
            ]
          },
          "metadata": {},
          "execution_count": 101
        }
      ]
    },
    {
      "cell_type": "code",
      "source": [
        "y_pred_svc = svc.predict(X_test)\n",
        "\n",
        "mse_svc = mean_squared_error(y_test, y_pred_svc)\n",
        "mae_svc = mean_absolute_error(y_test, y_pred_svc)\n",
        "print('Mean squared error on test data: ', mse_svc)\n",
        "print('Mean absolute error on test data: ', mae_svc)"
      ],
      "metadata": {
        "colab": {
          "base_uri": "https://localhost:8080/"
        },
        "id": "vlKWKfJht9Ps",
        "outputId": "24ff5294-a8f0-4098-b2d0-f39e88106a01"
      },
      "execution_count": 102,
      "outputs": [
        {
          "output_type": "stream",
          "name": "stdout",
          "text": [
            "Mean squared error on test data:  0.04924\n",
            "Mean absolute error on test data:  0.04924\n"
          ]
        }
      ]
    },
    {
      "cell_type": "code",
      "source": [
        "# MLP\n",
        "\n",
        "from sklearn.neural_network import MLPClassifier\n",
        "mlp = MLPClassifier(random_state=0, activation='relu', solver='adam', max_iter=100)\n",
        "mlp.fit(X_train, y_train)\n",
        "mlp.score(X_test, y_test)"
      ],
      "metadata": {
        "colab": {
          "base_uri": "https://localhost:8080/"
        },
        "id": "WEuTNDn2wP57",
        "outputId": "6c820a0c-32aa-4cbf-9098-461ce46ba385"
      },
      "execution_count": 103,
      "outputs": [
        {
          "output_type": "execute_result",
          "data": {
            "text/plain": [
              "0.99896"
            ]
          },
          "metadata": {},
          "execution_count": 103
        }
      ]
    },
    {
      "cell_type": "code",
      "source": [
        "y_pred_mlp = mlp.predict(X_test)\n",
        "\n",
        "mse_mlp = mean_squared_error(y_test, y_pred_mlp)\n",
        "mae_mlp = mean_absolute_error(y_test, y_pred_mlp)\n",
        "print('Mean squared error on test data: ', mse_mlp)\n",
        "print('Mean absolute error on test data: ', mae_mlp)"
      ],
      "metadata": {
        "colab": {
          "base_uri": "https://localhost:8080/"
        },
        "id": "dwV2XmcbxqKW",
        "outputId": "fa2e3e99-a2bf-4d44-ec5e-d5df9a0babc9"
      },
      "execution_count": 104,
      "outputs": [
        {
          "output_type": "stream",
          "name": "stdout",
          "text": [
            "Mean squared error on test data:  0.00104\n",
            "Mean absolute error on test data:  0.00104\n"
          ]
        }
      ]
    },
    {
      "cell_type": "code",
      "source": [
        "#Decision Tree Classifier has highest score, use.\n",
        "#Correlations\n",
        "import seaborn as sns\n",
        "import matplotlib.pyplot as plt\n",
        "sns.heatmap(dataset.corr())\n",
        "plt.show()\n",
        "#Most prominent values relating to fraud show as distance from home, distance from last transaction, online order. \n",
        "#The greatest showing as the ratio to median purchas price."
      ],
      "metadata": {
        "colab": {
          "base_uri": "https://localhost:8080/",
          "height": 420
        },
        "id": "eZ09-Qc56gFW",
        "outputId": "abc5e95d-4863-49eb-e5b4-7c786b233630"
      },
      "execution_count": 105,
      "outputs": [
        {
          "output_type": "display_data",
          "data": {
            "text/plain": [
              "<Figure size 432x288 with 2 Axes>"
            ],
            "image/png": "[encoded data removed]"
          },
          "metadata": {
            "needs_background": "light"
          }
        }
      ]
    },
    {
      "cell_type": "code",
      "source": [
        "from sklearn.metrics import confusion_matrix, classification_report"
      ],
      "metadata": {
        "id": "V7r2iWC2ApXg"
      },
      "execution_count": 106,
      "outputs": []
    },
    {
      "cell_type": "code",
      "source": [
        "#LR\n",
        "print(confusion_matrix(y_test, y_pred_lr))"
      ],
      "metadata": {
        "colab": {
          "base_uri": "https://localhost:8080/"
        },
        "id": "QcEhbPrWPt3r",
        "outputId": "89df6b84-7bf7-437b-a2ad-454b1dcad63f"
      },
      "execution_count": 111,
      "outputs": [
        {
          "output_type": "stream",
          "name": "stdout",
          "text": [
            "[[181283   1236]\n",
            " [  6947  10534]]\n"
          ]
        }
      ]
    },
    {
      "cell_type": "code",
      "source": [
        "print(classification_report(y_test, y_pred_lr))"
      ],
      "metadata": {
        "colab": {
          "base_uri": "https://localhost:8080/"
        },
        "id": "tYbvk3mTPwCs",
        "outputId": "1faca31a-d740-4fa5-ca0a-0807f47ff41d"
      },
      "execution_count": 112,
      "outputs": [
        {
          "output_type": "stream",
          "name": "stdout",
          "text": [
            "              precision    recall  f1-score   support\n",
            "\n",
            "         0.0       0.96      0.99      0.98    182519\n",
            "         1.0       0.89      0.60      0.72     17481\n",
            "\n",
            "    accuracy                           0.96    200000\n",
            "   macro avg       0.93      0.80      0.85    200000\n",
            "weighted avg       0.96      0.96      0.96    200000\n",
            "\n"
          ]
        }
      ]
    },
    {
      "cell_type": "code",
      "source": [
        "#RF\n",
        "print(confusion_matrix(y_test, y_pred_rf))"
      ],
      "metadata": {
        "colab": {
          "base_uri": "https://localhost:8080/"
        },
        "id": "nITIU4L6L_Se",
        "outputId": "86a64f15-e4af-47b5-a973-5d0a90b0e5cf"
      },
      "execution_count": 107,
      "outputs": [
        {
          "output_type": "stream",
          "name": "stdout",
          "text": [
            "[[182518      1]\n",
            " [     6  17475]]\n"
          ]
        }
      ]
    },
    {
      "cell_type": "code",
      "source": [
        "print(classification_report(y_test, y_pred_rf))"
      ],
      "metadata": {
        "colab": {
          "base_uri": "https://localhost:8080/"
        },
        "id": "m62BjDoyMBee",
        "outputId": "3c62da0f-edfa-4417-c21c-3511c7db1480"
      },
      "execution_count": 108,
      "outputs": [
        {
          "output_type": "stream",
          "name": "stdout",
          "text": [
            "              precision    recall  f1-score   support\n",
            "\n",
            "         0.0       1.00      1.00      1.00    182519\n",
            "         1.0       1.00      1.00      1.00     17481\n",
            "\n",
            "    accuracy                           1.00    200000\n",
            "   macro avg       1.00      1.00      1.00    200000\n",
            "weighted avg       1.00      1.00      1.00    200000\n",
            "\n"
          ]
        }
      ]
    },
    {
      "cell_type": "code",
      "source": [
        "#DT\n",
        "print(confusion_matrix(y_test, y_pred_dt))"
      ],
      "metadata": {
        "colab": {
          "base_uri": "https://localhost:8080/"
        },
        "id": "cXAlGgXZL9kZ",
        "outputId": "3acbc80f-3d52-437f-fc11-2de44dbc9136"
      },
      "execution_count": 109,
      "outputs": [
        {
          "output_type": "stream",
          "name": "stdout",
          "text": [
            "[[182517      2]\n",
            " [     4  17477]]\n"
          ]
        }
      ]
    },
    {
      "cell_type": "code",
      "source": [
        "print(classification_report(y_test, y_pred_dt))"
      ],
      "metadata": {
        "colab": {
          "base_uri": "https://localhost:8080/"
        },
        "id": "DOcOq21FAtpk",
        "outputId": "067bf5e2-3e28-4d43-c51b-307a50bf85c5"
      },
      "execution_count": 110,
      "outputs": [
        {
          "output_type": "stream",
          "name": "stdout",
          "text": [
            "              precision    recall  f1-score   support\n",
            "\n",
            "         0.0       1.00      1.00      1.00    182519\n",
            "         1.0       1.00      1.00      1.00     17481\n",
            "\n",
            "    accuracy                           1.00    200000\n",
            "   macro avg       1.00      1.00      1.00    200000\n",
            "weighted avg       1.00      1.00      1.00    200000\n",
            "\n"
          ]
        }
      ]
    },
    {
      "cell_type": "code",
      "source": [
        "#SVC\n",
        "print(confusion_matrix(y_test, y_pred_svc))"
      ],
      "metadata": {
        "colab": {
          "base_uri": "https://localhost:8080/"
        },
        "id": "knkyiCyNRvwZ",
        "outputId": "276541c9-da0c-4f24-f0c5-cfb832721923"
      },
      "execution_count": 114,
      "outputs": [
        {
          "output_type": "stream",
          "name": "stdout",
          "text": [
            "[[181619    900]\n",
            " [  8948   8533]]\n"
          ]
        }
      ]
    },
    {
      "cell_type": "code",
      "source": [
        "print(classification_report(y_test, y_pred_svc))"
      ],
      "metadata": {
        "colab": {
          "base_uri": "https://localhost:8080/"
        },
        "id": "iwzhiaJxRzaU",
        "outputId": "dbaa2279-6295-4718-cc5b-3a45736a00f1"
      },
      "execution_count": 115,
      "outputs": [
        {
          "output_type": "stream",
          "name": "stdout",
          "text": [
            "              precision    recall  f1-score   support\n",
            "\n",
            "         0.0       0.95      1.00      0.97    182519\n",
            "         1.0       0.90      0.49      0.63     17481\n",
            "\n",
            "    accuracy                           0.95    200000\n",
            "   macro avg       0.93      0.74      0.80    200000\n",
            "weighted avg       0.95      0.95      0.94    200000\n",
            "\n"
          ]
        }
      ]
    },
    {
      "cell_type": "code",
      "source": [
        "#MLP\n",
        "print(confusion_matrix(y_test, y_pred_mlp))"
      ],
      "metadata": {
        "colab": {
          "base_uri": "https://localhost:8080/"
        },
        "id": "cykyeNn4SJiW",
        "outputId": "03815a62-4802-4592-a660-84658c5ad05b"
      },
      "execution_count": 116,
      "outputs": [
        {
          "output_type": "stream",
          "name": "stdout",
          "text": [
            "[[182403    116]\n",
            " [    92  17389]]\n"
          ]
        }
      ]
    },
    {
      "cell_type": "code",
      "source": [
        "print(classification_report(y_test, y_pred_mlp))"
      ],
      "metadata": {
        "colab": {
          "base_uri": "https://localhost:8080/"
        },
        "id": "K7fnaycQSNba",
        "outputId": "5a6ff466-224e-45d7-bba1-2183bf91bdaa"
      },
      "execution_count": 118,
      "outputs": [
        {
          "output_type": "stream",
          "name": "stdout",
          "text": [
            "              precision    recall  f1-score   support\n",
            "\n",
            "         0.0       1.00      1.00      1.00    182519\n",
            "         1.0       0.99      0.99      0.99     17481\n",
            "\n",
            "    accuracy                           1.00    200000\n",
            "   macro avg       1.00      1.00      1.00    200000\n",
            "weighted avg       1.00      1.00      1.00    200000\n",
            "\n"
          ]
        }
      ]
    }
  ]
}